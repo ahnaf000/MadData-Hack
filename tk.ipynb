{
 "cells": [
  {
   "cell_type": "code",
   "execution_count": 1,
   "id": "9b901545",
   "metadata": {},
   "outputs": [],
   "source": [
    "import tkinter\n",
    "from tkinter import * \n",
    "import tkinter.messagebox\n",
    "\n",
    "import ttkbootstrap as ttk\n",
    "from ttkbootstrap.constants import *\n",
    "\n",
    "from PIL import Image, ImageTk\n",
    "\n",
    "import pandas as pd\n",
    "import math\n",
    "import matplotlib.pyplot as plt\n",
    "import numpy as np\n",
    "\n",
    "import geocoder\n",
    "from geopy.geocoders import Nominatim"
   ]
  },
  {
   "cell_type": "code",
   "execution_count": 2,
   "id": "23dbd188",
   "metadata": {},
   "outputs": [],
   "source": [
    "# This block is used for save user's current location as a png.\n",
    "\n",
    "# from selenium import webdriver\n",
    "# from selenium.webdriver.chrome.options import Options\n",
    "# from webdriver_manager.chrome import ChromeDriverManager\n",
    "# from PIL import Image, ImageTk\n",
    "\n",
    "# # set up options for headless browsing\n",
    "# chrome_options = Options()\n",
    "# chrome_options.add_argument('--headless')\n",
    "# chrome_options.add_argument('--disable-gpu')\n",
    "\n",
    "# # start a new Chrome browser\n",
    "# driver = webdriver.Chrome(ChromeDriverManager().install(), options=chrome_options)\n",
    "\n",
    "# # load the HTML file\n",
    "# driver.get('file:/Users/sunnytyw/Desktop/chicago_map.html')\n",
    "\n",
    "# # take a screenshot of the page\n",
    "# driver.save_screenshot('screenshot.png')\n",
    "\n",
    "# # close the browser\n",
    "# driver.quit()\n",
    "\n",
    "# # open the screenshot and save it as a PNG\n",
    "# with Image.open('screenshot.png') as img:\n",
    "#     img.save('output.png', 'png')\n",
    "\n"
   ]
  },
  {
   "cell_type": "code",
   "execution_count": 3,
   "id": "56d5cec8",
   "metadata": {},
   "outputs": [],
   "source": [
    "# How many miles away from the crush area (int), assume user is 0.5 mile away from the crush area right now.\n",
    "distance = 0.5"
   ]
  },
  {
   "cell_type": "code",
   "execution_count": 4,
   "id": "8592c87c",
   "metadata": {},
   "outputs": [],
   "source": [
    "# get user's current longtitude and latitude \n",
    "g = geocoder.ip('me')\n",
    "geo_list = g.latlng #43.0775, -89.3831"
   ]
  },
  {
   "cell_type": "code",
   "execution_count": 5,
   "id": "6b921fae",
   "metadata": {},
   "outputs": [],
   "source": [
    "# transfer longtitude and latitude to the corresponding zipcode\n",
    "def get_zipcode(lat, long):\n",
    "    geolocator = Nominatim(user_agent=\"http\")\n",
    "    location = geolocator.reverse(f\"{lat}, {long}\")\n",
    "    address = location.raw['address']\n",
    "    zipcode = address.get('postcode')\n",
    "    return zipcode\n",
    "\n",
    "code = int(get_zipcode(geo_list[0], geo_list[1]))\n",
    "code = 60628 #since rn we're not at Chicago, we just assume a randon zipcode that located in Chicago"
   ]
  },
  {
   "cell_type": "code",
   "execution_count": 6,
   "id": "c6034332",
   "metadata": {},
   "outputs": [],
   "source": [
    "df = pd.read_csv(\"data_with_zipcode.csv\")"
   ]
  },
  {
   "cell_type": "code",
   "execution_count": 7,
   "id": "ae19b58f",
   "metadata": {},
   "outputs": [],
   "source": [
    "#get the dangerous rank\n",
    "\n",
    "# Create a DataFrame of ZIP Codes and their counts\n",
    "zipcode_counts_df = pd.DataFrame(df['zipcode'].value_counts()).reset_index()\n",
    "\n",
    "# Rename columns\n",
    "zipcode_counts_df.columns = ['ZIP Code', 'Count']\n",
    "zipcode_counts_df.to_csv('zipcode_counts.csv', index=True)\n",
    "\n",
    "\n",
    "\n",
    "num_list = list(range(1, 51))\n",
    "#    if code == zipcode_dict.items():\n",
    "#        rank = 'You are in #' + str(zipcode) + ' hazard zone.'\n",
    "#        break\n",
    "#    else:\n",
    "#        rank = 'No hazard zone found for the given code.'\n",
    "zipcode_df = zipcode_counts_df.drop(columns = ['Count'])\n",
    "zipcode_df['Rank'] = num_list\n",
    "\n",
    "for zipcode, rank in zipcode_df.iloc:\n",
    "    if zipcode == code:\n",
    "        dangerous_rank = 'You are in #' + str(rank) + ' hazard zone.'"
   ]
  },
  {
   "cell_type": "code",
   "execution_count": 8,
   "id": "f4a0d7cd",
   "metadata": {},
   "outputs": [],
   "source": [
    "#create a message box when user want to know the dangerous rank of his/hers location\n",
    "def btnClick():\n",
    "    tkinter.messagebox.showinfo(\"Ranking\", dangerous_rank)"
   ]
  },
  {
   "cell_type": "code",
   "execution_count": null,
   "id": "77c2fe8f",
   "metadata": {},
   "outputs": [],
   "source": [
    "#visualization\n",
    "\n",
    "#window = Tk()\n",
    "#window = ttk.Window()\n",
    "window = Tk()\n",
    "\n",
    "#style = ttk.Style()\n",
    "#style = tk.Style()\n",
    "\n",
    "#style.theme_use(\"superhero\")# set theme for output\n",
    "\n",
    "window.title(\"Safer Roads Initiative\") #tittle\n",
    "window.geometry(\"325x500\") #set the size of canvas\n",
    "window.iconphoto(False, ttk.PhotoImage(file = 'car3.png')) #create a icon for the output\n",
    "\n",
    "title_label = Label(window, text = 'Road Safety Alert System', font = ('Futura', 25)).pack()#content of text\n",
    "title_label1 = Label(window, text = 'Chicago', font = ('Futura', 25)).pack()\n",
    "#speed_label = Label(window, text = 'Do Not Exceed ' + str(speed_lim) + ' mph', font = ('Futura', 23)).pack()\n",
    "\n",
    "if distance <= 1:\n",
    "    tkinter.messagebox.showwarning(\"warning\", \"You are \"+ str(distance) + \" mile(s) away from crash area\") #create a messagebox\n",
    "    speed_label = Label(window, text = \"You are in dangerous area\", font = ('Futura', 24), fg = 'red').pack()\n",
    "    \n",
    "    safe_button = Button(window, text = \"Am I Safe?\", command = btnClick).pack() #create a button\n",
    "    \n",
    "    #dangerous_label = Label(window, text = dangerous_rank, font = ('Futura', 15)).pack()\n",
    "    \n",
    "map_pic = PhotoImage(file = 'shiyan.png')\n",
    "img = Image.open('shiyan.png')\n",
    "photo = ImageTk.PhotoImage(img)\n",
    "imglabel = Label(window, image = photo).pack(side = BOTTOM, pady = (0,1)) #insert a picture in image\n",
    "\n",
    "#lable1.grid(column=1, row=1)\n",
    "window.mainloop()"
   ]
  }
 ],
 "metadata": {
  "kernelspec": {
   "display_name": "Python 3 (ipykernel)",
   "language": "python",
   "name": "python3"
  },
  "language_info": {
   "codemirror_mode": {
    "name": "ipython",
    "version": 3
   },
   "file_extension": ".py",
   "mimetype": "text/x-python",
   "name": "python",
   "nbconvert_exporter": "python",
   "pygments_lexer": "ipython3",
   "version": "3.9.12"
  }
 },
 "nbformat": 4,
 "nbformat_minor": 5
}
